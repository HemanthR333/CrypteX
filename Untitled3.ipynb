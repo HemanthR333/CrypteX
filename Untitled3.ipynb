{
 "cells": [
  {
   "cell_type": "code",
   "execution_count": 1,
   "id": "74c6747a-a41c-479f-b688-0bb9ae2ead68",
   "metadata": {},
   "outputs": [],
   "source": [
    "import pandas as pd\n",
    "import numpy as np\n"
   ]
  },
  {
   "cell_type": "code",
   "execution_count": 3,
   "id": "bdb3113f-5421-41d1-8c9f-7d8489d04d0f",
   "metadata": {},
   "outputs": [],
   "source": [
    "df = pd.read_csv('recommendation_assets.csv')"
   ]
  },
  {
   "cell_type": "code",
   "execution_count": 4,
   "id": "a0ced583-e15a-4030-9220-96bb3ae1b3e8",
   "metadata": {},
   "outputs": [
    {
     "data": {
      "text/html": [
       "<div>\n",
       "<style scoped>\n",
       "    .dataframe tbody tr th:only-of-type {\n",
       "        vertical-align: middle;\n",
       "    }\n",
       "\n",
       "    .dataframe tbody tr th {\n",
       "        vertical-align: top;\n",
       "    }\n",
       "\n",
       "    .dataframe thead th {\n",
       "        text-align: right;\n",
       "    }\n",
       "</style>\n",
       "<table border=\"1\" class=\"dataframe\">\n",
       "  <thead>\n",
       "    <tr style=\"text-align: right;\">\n",
       "      <th></th>\n",
       "      <th>AssetID</th>\n",
       "      <th>UserID</th>\n",
       "      <th>Asset Name</th>\n",
       "      <th>Category</th>\n",
       "      <th>Description</th>\n",
       "      <th>Interaction type</th>\n",
       "      <th>User rating</th>\n",
       "      <th>Price</th>\n",
       "    </tr>\n",
       "  </thead>\n",
       "  <tbody>\n",
       "    <tr>\n",
       "      <th>0</th>\n",
       "      <td>A1000</td>\n",
       "      <td>U27</td>\n",
       "      <td>RzQAncYp</td>\n",
       "      <td>Stock</td>\n",
       "      <td>Rare Piece</td>\n",
       "      <td>Share</td>\n",
       "      <td>2</td>\n",
       "      <td>2232.78</td>\n",
       "    </tr>\n",
       "    <tr>\n",
       "      <th>1</th>\n",
       "      <td>A1001</td>\n",
       "      <td>U35</td>\n",
       "      <td>QxVOOC5f</td>\n",
       "      <td>Artwork</td>\n",
       "      <td>Popular Investment</td>\n",
       "      <td>Like</td>\n",
       "      <td>1</td>\n",
       "      <td>3933.26</td>\n",
       "    </tr>\n",
       "    <tr>\n",
       "      <th>2</th>\n",
       "      <td>A1002</td>\n",
       "      <td>U46</td>\n",
       "      <td>6hkPPvNu</td>\n",
       "      <td>Artwork</td>\n",
       "      <td>Popular Song</td>\n",
       "      <td>View</td>\n",
       "      <td>3</td>\n",
       "      <td>536.85</td>\n",
       "    </tr>\n",
       "    <tr>\n",
       "      <th>3</th>\n",
       "      <td>A1003</td>\n",
       "      <td>U50</td>\n",
       "      <td>q6zLG4aX</td>\n",
       "      <td>Stock</td>\n",
       "      <td>Innovative Song</td>\n",
       "      <td>Purchase</td>\n",
       "      <td>4</td>\n",
       "      <td>4996.07</td>\n",
       "    </tr>\n",
       "    <tr>\n",
       "      <th>4</th>\n",
       "      <td>A1004</td>\n",
       "      <td>U3</td>\n",
       "      <td>FGgVHmsV</td>\n",
       "      <td>Artwork</td>\n",
       "      <td>Rare Song</td>\n",
       "      <td>Share</td>\n",
       "      <td>3</td>\n",
       "      <td>4616.01</td>\n",
       "    </tr>\n",
       "    <tr>\n",
       "      <th>...</th>\n",
       "      <td>...</td>\n",
       "      <td>...</td>\n",
       "      <td>...</td>\n",
       "      <td>...</td>\n",
       "      <td>...</td>\n",
       "      <td>...</td>\n",
       "      <td>...</td>\n",
       "      <td>...</td>\n",
       "    </tr>\n",
       "    <tr>\n",
       "      <th>195</th>\n",
       "      <td>A1195</td>\n",
       "      <td>U23</td>\n",
       "      <td>kmXF7rlm</td>\n",
       "      <td>Music</td>\n",
       "      <td>Rare Track</td>\n",
       "      <td>Share</td>\n",
       "      <td>5</td>\n",
       "      <td>596.05</td>\n",
       "    </tr>\n",
       "    <tr>\n",
       "      <th>196</th>\n",
       "      <td>A1196</td>\n",
       "      <td>U46</td>\n",
       "      <td>0UAfeOKB</td>\n",
       "      <td>Stock</td>\n",
       "      <td>Unique Investment</td>\n",
       "      <td>View</td>\n",
       "      <td>4</td>\n",
       "      <td>354.01</td>\n",
       "    </tr>\n",
       "    <tr>\n",
       "      <th>197</th>\n",
       "      <td>A1197</td>\n",
       "      <td>U22</td>\n",
       "      <td>zF1h9IAD</td>\n",
       "      <td>Music</td>\n",
       "      <td>Rare Track</td>\n",
       "      <td>Share</td>\n",
       "      <td>3</td>\n",
       "      <td>3236.54</td>\n",
       "    </tr>\n",
       "    <tr>\n",
       "      <th>198</th>\n",
       "      <td>A1198</td>\n",
       "      <td>U35</td>\n",
       "      <td>OFjFIL5J</td>\n",
       "      <td>NFT</td>\n",
       "      <td>Unique Collection</td>\n",
       "      <td>Like</td>\n",
       "      <td>5</td>\n",
       "      <td>105.53</td>\n",
       "    </tr>\n",
       "    <tr>\n",
       "      <th>199</th>\n",
       "      <td>A1199</td>\n",
       "      <td>U31</td>\n",
       "      <td>O6KVhykp</td>\n",
       "      <td>Music</td>\n",
       "      <td>Popular Piece</td>\n",
       "      <td>Like</td>\n",
       "      <td>5</td>\n",
       "      <td>2204.37</td>\n",
       "    </tr>\n",
       "  </tbody>\n",
       "</table>\n",
       "<p>200 rows × 8 columns</p>\n",
       "</div>"
      ],
      "text/plain": [
       "    AssetID UserID Asset Name Category         Description Interaction type  \\\n",
       "0     A1000    U27   RzQAncYp    Stock          Rare Piece            Share   \n",
       "1     A1001    U35   QxVOOC5f  Artwork  Popular Investment             Like   \n",
       "2     A1002    U46   6hkPPvNu  Artwork        Popular Song             View   \n",
       "3     A1003    U50   q6zLG4aX    Stock     Innovative Song         Purchase   \n",
       "4     A1004     U3   FGgVHmsV  Artwork           Rare Song            Share   \n",
       "..      ...    ...        ...      ...                 ...              ...   \n",
       "195   A1195    U23   kmXF7rlm    Music          Rare Track            Share   \n",
       "196   A1196    U46   0UAfeOKB    Stock   Unique Investment             View   \n",
       "197   A1197    U22   zF1h9IAD    Music          Rare Track            Share   \n",
       "198   A1198    U35   OFjFIL5J      NFT   Unique Collection             Like   \n",
       "199   A1199    U31   O6KVhykp    Music       Popular Piece             Like   \n",
       "\n",
       "     User rating    Price  \n",
       "0              2  2232.78  \n",
       "1              1  3933.26  \n",
       "2              3   536.85  \n",
       "3              4  4996.07  \n",
       "4              3  4616.01  \n",
       "..           ...      ...  \n",
       "195            5   596.05  \n",
       "196            4   354.01  \n",
       "197            3  3236.54  \n",
       "198            5   105.53  \n",
       "199            5  2204.37  \n",
       "\n",
       "[200 rows x 8 columns]"
      ]
     },
     "execution_count": 4,
     "metadata": {},
     "output_type": "execute_result"
    }
   ],
   "source": [
    "df"
   ]
  },
  {
   "cell_type": "code",
   "execution_count": 5,
   "id": "f7d50d71-22fc-446a-abe9-693ced66497c",
   "metadata": {},
   "outputs": [],
   "source": [
    "from sklearn.feature_extraction.text import TfidfVectorizer\n",
    "from sklearn.metrics.pairwise import cosine_similarity\n",
    "from sklearn.decomposition import TruncatedSVD\n",
    "from sklearn.preprocessing import LabelEncoder"
   ]
  },
  {
   "cell_type": "code",
   "execution_count": 6,
   "id": "62783688-57fc-4e1f-934f-b9f756845464",
   "metadata": {},
   "outputs": [],
   "source": [
    "label_cat = LabelEncoder()\n",
    "label_interact = LabelEncoder()\n",
    "df['Category'] = label_cat.fit_transform(df['Category'])\n",
    "df['Interaction type'] = label_interact.fit_transform(df['Interaction type'])"
   ]
  },
  {
   "cell_type": "code",
   "execution_count": 8,
   "id": "f48bab0f-51f0-4e3c-89c5-b22213e107d0",
   "metadata": {},
   "outputs": [],
   "source": [
    "tfidf_vectorizer = TfidfVectorizer(stop_words='english', max_features=500)\n",
    "description_matrix = tfidf_vectorizer.fit_transform(df['Description'])"
   ]
  },
  {
   "cell_type": "code",
   "execution_count": 10,
   "id": "2727dd7d-ae04-42cd-bb06-963b9ff800b3",
   "metadata": {},
   "outputs": [
    {
     "name": "stdout",
     "output_type": "stream",
     "text": [
      "  (0, 6)\t0.7145569462990581\n",
      "  (0, 8)\t0.6995772798596057\n",
      "  (1, 5)\t0.7371334516195437\n",
      "  (1, 7)\t0.6757471971850552\n",
      "  (2, 9)\t0.7371334516195437\n",
      "  (2, 7)\t0.6757471971850552\n",
      "  (3, 4)\t0.7108069796904654\n",
      "  (3, 9)\t0.7033871178969077\n",
      "  (4, 9)\t0.7071067811865476\n",
      "  (4, 8)\t0.7071067811865476\n",
      "  (5, 4)\t0.7108069796904654\n",
      "  (5, 5)\t0.7033871178969077\n",
      "  (6, 1)\t0.7108069796904654\n",
      "  (6, 8)\t0.7033871178969077\n",
      "  (7, 10)\t0.6783882604257051\n",
      "  (7, 0)\t0.734703592012851\n",
      "  (8, 9)\t0.7371334516195437\n",
      "  (8, 7)\t0.6757471971850552\n",
      "  (9, 2)\t0.7371334516195437\n",
      "  (9, 7)\t0.6757471971850552\n",
      "  (10, 3)\t0.6997160164164957\n",
      "  (10, 1)\t0.7144210917730733\n",
      "  (11, 2)\t0.7371334516195437\n",
      "  (11, 7)\t0.6757471971850552\n",
      "  (12, 4)\t0.7108069796904654\n",
      "  :\t:\n",
      "  (187, 7)\t0.67188683062133\n",
      "  (188, 9)\t0.7071067811865476\n",
      "  (188, 8)\t0.7071067811865476\n",
      "  (189, 9)\t0.7371334516195437\n",
      "  (189, 7)\t0.6757471971850552\n",
      "  (190, 0)\t0.7310762238742312\n",
      "  (190, 6)\t0.6822957972066036\n",
      "  (191, 5)\t0.7371334516195437\n",
      "  (191, 7)\t0.6757471971850552\n",
      "  (192, 1)\t0.7071067811865476\n",
      "  (192, 4)\t0.7071067811865476\n",
      "  (193, 3)\t0.6997160164164957\n",
      "  (193, 1)\t0.7144210917730733\n",
      "  (194, 6)\t0.7145569462990581\n",
      "  (194, 8)\t0.6995772798596057\n",
      "  (195, 10)\t0.7108069796904654\n",
      "  (195, 8)\t0.7033871178969077\n",
      "  (196, 11)\t0.7261285712612826\n",
      "  (196, 5)\t0.6875589414719645\n",
      "  (197, 10)\t0.7108069796904654\n",
      "  (197, 8)\t0.7033871178969077\n",
      "  (198, 11)\t0.7261285712612826\n",
      "  (198, 2)\t0.6875589414719645\n",
      "  (199, 7)\t0.6679383179672099\n",
      "  (199, 6)\t0.7442166374054899\n"
     ]
    }
   ],
   "source": [
    "print(description_matrix)"
   ]
  },
  {
   "cell_type": "code",
   "execution_count": 12,
   "id": "5a7fd8d8-7fc0-46e6-9de2-097e89e4376c",
   "metadata": {},
   "outputs": [],
   "source": [
    "category_matrix = np.array(df['Category']).reshape(-1, 1)\n",
    "content_matrix = np.hstack([description_matrix.toarray(), category_matrix])"
   ]
  },
  {
   "cell_type": "code",
   "execution_count": 14,
   "id": "59cc280e-3c14-4798-81c2-91b21b507f7a",
   "metadata": {},
   "outputs": [],
   "source": [
    "content_similarity = cosine_similarity(content_matrix)\n",
    "\n",
    "def recommend_content_based(asset_id, top_n=5):\n",
    "    idx = df[df['AssetID'] == asset_id].index[0]\n",
    "    similar_assets = list(enumerate(content_similarity[idx]))\n",
    "    sorted_similar_assets = sorted(similar_assets, key=lambda x: x[1], reverse=True)[1:top_n+1]\n",
    "    recommendations = [df.iloc[i[0]]['AssetID'] for i in sorted_similar_assets]\n",
    "    return recommendations"
   ]
  },
  {
   "cell_type": "code",
   "execution_count": 20,
   "id": "f822cd6d-17a7-4101-b0db-78371665dfff",
   "metadata": {},
   "outputs": [],
   "source": [
    "user_item_matrix = df.pivot_table(index='UserID', columns='AssetID', values='User rating', fill_value=0)\n",
    "\n",
    "# Matrix factorization using SVD\n",
    "svd = TruncatedSVD(n_components=20)\n",
    "user_factors = svd.fit_transform(user_item_matrix)\n",
    "item_factors = svd.components_\n",
    "\n",
    "# Compute user-asset recommendations\n",
    "user_item_pred = np.dot(user_factors, item_factors)\n",
    "\n",
    "def recommend_collaborative(user_id, top_n=5):\n",
    "    user_idx = user_item_matrix.index.get_loc(user_id)\n",
    "    user_ratings = user_item_pred[user_idx]\n",
    "    top_items = np.argsort(user_ratings)[::-1][:top_n]\n",
    "    recommendations = user_item_matrix.columns[top_items]\n",
    "    return recommendations.tolist()"
   ]
  },
  {
   "cell_type": "code",
   "execution_count": 21,
   "id": "b797d968-75fb-4463-8749-5efbe5e31702",
   "metadata": {},
   "outputs": [],
   "source": [
    "def recommend_hybrid(user_id, asset_id, top_n=5):\n",
    "    # Combine content-based and collaborative recommendations\n",
    "    content_recommendations = recommend_content_based(asset_id, top_n)\n",
    "    collaborative_recommendations = recommend_collaborative(user_id, top_n)\n",
    "    combined_recommendations = list(set(content_recommendations + collaborative_recommendations))\n",
    "    return combined_recommendations[:top_n]"
   ]
  },
  {
   "cell_type": "code",
   "execution_count": 24,
   "id": "73a2cf4f-794d-44f4-ab57-a5760d3b6ce1",
   "metadata": {},
   "outputs": [
    {
     "name": "stdout",
     "output_type": "stream",
     "text": [
      "Content-based Recommendations:\n",
      "Collaborative Recommendations:\n",
      "Hybrid Recommendations:\n"
     ]
    }
   ],
   "source": [
    "print(\"Content-based Recommendations:\")\n",
    "content_based = recommend_content_based(asset_id='A1000')\n",
    "\n",
    "# Collaborative recommendation for a user\n",
    "print(\"Collaborative Recommendations:\")\n",
    "collaborative_based = recommend_collaborative(user_id='U27')\n",
    "\n",
    "# Hybrid recommendations\n",
    "print(\"Hybrid Recommendations:\")\n",
    "hybrid_based = recommend_hybrid(user_id='U27', asset_id='A1000')\n"
   ]
  },
  {
   "cell_type": "code",
   "execution_count": 26,
   "id": "ccf8f2f1-d452-4afb-ba0b-51779f0c43fd",
   "metadata": {},
   "outputs": [],
   "source": [
    "def recommed(based):    \n",
    "    results_list = [] \n",
    "\n",
    "    for i in based:\n",
    "        results = df[df['AssetID'] == i]\n",
    "\n",
    "        results_list.append(results)\n",
    "\n",
    "    final_results = pd.concat(results_list, ignore_index=True)\n",
    "\n",
    "    final_results_sorted = final_results.sort_values(by='User rating',ascending=False)\n",
    "\n",
    "    final_results_sorted['Category'] = label_cat.inverse_transform(final_results_sorted['Category'])\n",
    "\n",
    "    print(final_results_sorted)"
   ]
  },
  {
   "cell_type": "code",
   "execution_count": 28,
   "id": "be4d696a-9f5a-430a-9461-06a5f015a463",
   "metadata": {},
   "outputs": [
    {
     "name": "stdout",
     "output_type": "stream",
     "text": [
      "  AssetID UserID Asset Name Category     Description  Interaction type  \\\n",
      "0   A1074    U19   AlPXRtuG    Stock      Rare Piece                 1   \n",
      "1   A1129    U12   RUkPle2n    Stock      Rare Piece                 1   \n",
      "3   A1194    U29   lZmOrSl6      NFT      Rare Piece                 2   \n",
      "2   A1017    U21   enHCCJZJ      NFT      Rare Piece                 2   \n",
      "4   A1154    U31   1gEoG2tA    Stock  Creative Piece                 1   \n",
      "\n",
      "   User rating    Price  \n",
      "0            4  2176.11  \n",
      "1            3  3541.68  \n",
      "3            2   916.24  \n",
      "2            1  1878.26  \n",
      "4            1  3579.29  \n",
      "  AssetID UserID Asset Name Category      Description  Interaction type  \\\n",
      "0   A1109    U27   ZAglKwjx    Stock      Unique Song                 1   \n",
      "1   A1086    U27   3zEesMMX      NFT      Popular Art                 1   \n",
      "2   A1040    U27   SknoLSyj    Music   Creative Track                 0   \n",
      "3   A1131    U27   VtcW8hiI    Stock   Innovative Art                 3   \n",
      "4   A1029    U27   K6jOFo40    Music  Rare Collection                 1   \n",
      "\n",
      "   User rating    Price  \n",
      "0            5  2526.97  \n",
      "1            3  2897.59  \n",
      "2            3   703.46  \n",
      "3            2  1363.85  \n",
      "4            2  2399.66  \n",
      "  AssetID UserID Asset Name Category      Description  Interaction type  \\\n",
      "3   A1074    U19   AlPXRtuG    Stock       Rare Piece                 1   \n",
      "0   A1086    U27   3zEesMMX      NFT      Popular Art                 1   \n",
      "2   A1129    U12   RUkPle2n    Stock       Rare Piece                 1   \n",
      "4   A1029    U27   K6jOFo40    Music  Rare Collection                 1   \n",
      "1   A1017    U21   enHCCJZJ      NFT       Rare Piece                 2   \n",
      "\n",
      "   User rating    Price  \n",
      "3            4  2176.11  \n",
      "0            3  2897.59  \n",
      "2            3  3541.68  \n",
      "4            2  2399.66  \n",
      "1            1  1878.26  \n"
     ]
    }
   ],
   "source": [
    "recommed(content_based)\n",
    "recommed(collaborative_based)\n",
    "recommed(hybrid_based)"
   ]
  },
  {
   "cell_type": "code",
   "execution_count": 36,
   "id": "545ae649-2a99-4040-b209-4f42ba1ab879",
   "metadata": {},
   "outputs": [],
   "source": [
    "def recommend_content_based_by_category(category_name, top_n=5):\n",
    "    # Check if category exists\n",
    "    if category_name not in label_cat.classes_:\n",
    "        return f\"Category '{category_name}' not found in the dataset.\"\n",
    "\n",
    "    # Filter data by category\n",
    "    category_id = label_cat.transform([category_name])[0]\n",
    "    category_indices = df[df['Category'] == category_id].index\n",
    "\n",
    "    # Compute similarity for assets in this category\n",
    "    category_similarity = content_similarity[category_indices][:, category_indices]\n",
    "\n",
    "    # Recommend top-N similar items for each item in the category\n",
    "    recommendations = []\n",
    "    for idx in category_indices:\n",
    "        similar_assets = list(enumerate(content_similarity[idx]))\n",
    "        sorted_similar_assets = sorted(similar_assets, key=lambda x: x[1], reverse=True)[1:top_n + 1]\n",
    "\n",
    "        # Append unique recommendations\n",
    "        for sim in sorted_similar_assets:\n",
    "            asset_id = df.iloc[sim[0]]['AssetID']\n",
    "            if asset_id not in recommendations:\n",
    "                recommendations.append(asset_id)\n",
    "\n",
    "    return recommendations[:top_n]"
   ]
  },
  {
   "cell_type": "code",
   "execution_count": 35,
   "id": "da675c79-030f-4b9b-b63e-9b303a2135dd",
   "metadata": {},
   "outputs": [],
   "source": [
    "def recommend_collaborative_by_category(category_name, top_n=5):\n",
    "    # Check if category exists\n",
    "    if category_name not in label_cat.classes_:\n",
    "        return f\"Category '{category_name}' not found in the dataset.\"\n",
    "\n",
    "    # Filter items in the category\n",
    "    category_id = label_cat.transform([category_name])[0]\n",
    "    category_items = df[df['Category'] == category_id]['AssetID']\n",
    "\n",
    "    # Predict user-item ratings only for category items\n",
    "    category_item_indices = [user_item_matrix.columns.get_loc(asset_id) for asset_id in category_items if asset_id in user_item_matrix.columns]\n",
    "\n",
    "    # Aggregate predictions for all users\n",
    "    avg_ratings = np.mean(user_item_pred[:, category_item_indices], axis=0)\n",
    "\n",
    "    # Recommend top-N items based on average predicted ratings\n",
    "    top_items = np.argsort(avg_ratings)[::-1][:top_n]\n",
    "    recommendations = user_item_matrix.columns[category_item_indices].values[top_items]\n",
    "\n",
    "    return recommendations.tolist()"
   ]
  },
  {
   "cell_type": "code",
   "execution_count": 37,
   "id": "7952b335-acf6-4cac-9ab0-b3e42920aa3d",
   "metadata": {},
   "outputs": [],
   "source": [
    "def recommend_hybrid_by_category(category_name, top_n=5):\n",
    "    # Get content-based and collaborative recommendations\n",
    "    content_recommendations = recommend_content_based_by_category(category_name, top_n)\n",
    "    collaborative_recommendations = recommend_collaborative_by_category(category_name, top_n)\n",
    "\n",
    "    # Combine and deduplicate recommendations\n",
    "    combined_recommendations = list(set(content_recommendations + collaborative_recommendations))\n",
    "    return combined_recommendations[:top_n]"
   ]
  },
  {
   "cell_type": "code",
   "execution_count": 38,
   "id": "78222142-b6f9-4701-b69b-5f3646d211fb",
   "metadata": {},
   "outputs": [],
   "source": [
    "hybrid = recommend_hybrid_by_category(\"Artwork\", top_n=5)"
   ]
  },
  {
   "cell_type": "code",
   "execution_count": 39,
   "id": "281aa327-b34d-4d4a-9adf-e60f4c3968f7",
   "metadata": {},
   "outputs": [
    {
     "data": {
      "text/plain": [
       "['A1163', 'A1048', 'A1050', 'A1152', 'A1157']"
      ]
     },
     "execution_count": 39,
     "metadata": {},
     "output_type": "execute_result"
    }
   ],
   "source": [
    "hybrid"
   ]
  },
  {
   "cell_type": "code",
   "execution_count": 40,
   "id": "13644be6-1e6a-4665-a4b2-ea07c2b0dc1d",
   "metadata": {},
   "outputs": [
    {
     "name": "stdout",
     "output_type": "stream",
     "text": [
      "  AssetID UserID Asset Name Category          Description  Interaction type  \\\n",
      "4   A1157    U22   6QtLRu0Y  Artwork   Popular Collection                 1   \n",
      "2   A1050    U21   RbqrcJgK  Artwork  Creative Investment                 0   \n",
      "3   A1152    U16   I67F65e8    Music   Popular Investment                 2   \n",
      "0   A1163    U42   9oQkOdfn    Music   Popular Investment                 3   \n",
      "1   A1048     U4   eqFYo0pL  Artwork  Creative Investment                 3   \n",
      "\n",
      "   User rating    Price  \n",
      "4            5  3639.74  \n",
      "2            3  2504.49  \n",
      "3            2   397.44  \n",
      "0            1  2990.46  \n",
      "1            1  3676.85  \n"
     ]
    }
   ],
   "source": [
    "recommed(hybrid)"
   ]
  },
  {
   "cell_type": "code",
   "execution_count": null,
   "id": "9639e8b5-8c5a-4617-8ab5-0b78cdecbe81",
   "metadata": {},
   "outputs": [],
   "source": []
  }
 ],
 "metadata": {
  "kernelspec": {
   "display_name": "Python 3 (ipykernel)",
   "language": "python",
   "name": "python3"
  },
  "language_info": {
   "codemirror_mode": {
    "name": "ipython",
    "version": 3
   },
   "file_extension": ".py",
   "mimetype": "text/x-python",
   "name": "python",
   "nbconvert_exporter": "python",
   "pygments_lexer": "ipython3",
   "version": "3.9.12"
  }
 },
 "nbformat": 4,
 "nbformat_minor": 5
}
